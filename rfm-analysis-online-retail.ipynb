{
 "cells": [
  {
   "cell_type": "code",
   "execution_count": 1,
   "id": "94c6f811",
   "metadata": {
    "_cell_guid": "b1076dfc-b9ad-4769-8c92-a6c4dae69d19",
    "_uuid": "8f2839f25d086af736a60e9eeb907d3b93b6e0e5",
    "execution": {
     "iopub.execute_input": "2023-08-14T14:49:16.197889Z",
     "iopub.status.busy": "2023-08-14T14:49:16.197025Z",
     "iopub.status.idle": "2023-08-14T14:49:17.607561Z",
     "shell.execute_reply": "2023-08-14T14:49:17.606567Z"
    },
    "papermill": {
     "duration": 1.426322,
     "end_time": "2023-08-14T14:49:17.610331",
     "exception": false,
     "start_time": "2023-08-14T14:49:16.184009",
     "status": "completed"
    },
    "tags": []
   },
   "outputs": [
    {
     "name": "stderr",
     "output_type": "stream",
     "text": [
      "/opt/conda/lib/python3.10/site-packages/scipy/__init__.py:146: UserWarning: A NumPy version >=1.16.5 and <1.23.0 is required for this version of SciPy (detected version 1.23.5\n",
      "  warnings.warn(f\"A NumPy version >={np_minversion} and <{np_maxversion}\"\n"
     ]
    }
   ],
   "source": [
    "import pandas as pd    #Data Cleaning\n",
    "import numpy as np     #Array Calculation \n",
    "import matplotlib.pyplot as plt # Visualization\n",
    "import seaborn as sns  #Advance analytical Visualization\n",
    "\n",
    "import datetime as dt\n",
    "import warnings # Uyarılar\n",
    "warnings.filterwarnings(\"ignore\")"
   ]
  },
  {
   "cell_type": "markdown",
   "id": "de7a032a",
   "metadata": {
    "papermill": {
     "duration": 0.010628,
     "end_time": "2023-08-14T14:49:17.631575",
     "exception": false,
     "start_time": "2023-08-14T14:49:17.620947",
     "status": "completed"
    },
    "tags": []
   },
   "source": [
    "# Table Content"
   ]
  },
  {
   "cell_type": "code",
   "execution_count": 2,
   "id": "d3eb2f09",
   "metadata": {
    "execution": {
     "iopub.execute_input": "2023-08-14T14:49:17.654535Z",
     "iopub.status.busy": "2023-08-14T14:49:17.654105Z",
     "iopub.status.idle": "2023-08-14T14:49:32.620343Z",
     "shell.execute_reply": "2023-08-14T14:49:32.618582Z"
    },
    "papermill": {
     "duration": 14.981088,
     "end_time": "2023-08-14T14:49:32.623152",
     "exception": false,
     "start_time": "2023-08-14T14:49:17.642064",
     "status": "completed"
    },
    "tags": []
   },
   "outputs": [
    {
     "name": "stdout",
     "output_type": "stream",
     "text": [
      "Requirement already satisfied: openpyxl in /opt/conda/lib/python3.10/site-packages (3.1.2)\r\n",
      "Requirement already satisfied: et-xmlfile in /opt/conda/lib/python3.10/site-packages (from openpyxl) (1.1.0)\r\n",
      "Note: you may need to restart the kernel to use updated packages.\n"
     ]
    }
   ],
   "source": [
    "pip install openpyxl"
   ]
  },
  {
   "cell_type": "code",
   "execution_count": 3,
   "id": "6f42598a",
   "metadata": {
    "execution": {
     "iopub.execute_input": "2023-08-14T14:49:32.646650Z",
     "iopub.status.busy": "2023-08-14T14:49:32.646185Z",
     "iopub.status.idle": "2023-08-14T14:49:34.332709Z",
     "shell.execute_reply": "2023-08-14T14:49:34.331515Z"
    },
    "papermill": {
     "duration": 1.701758,
     "end_time": "2023-08-14T14:49:34.335635",
     "exception": false,
     "start_time": "2023-08-14T14:49:32.633877",
     "status": "completed"
    },
    "tags": []
   },
   "outputs": [
    {
     "data": {
      "text/html": [
       "<div>\n",
       "<style scoped>\n",
       "    .dataframe tbody tr th:only-of-type {\n",
       "        vertical-align: middle;\n",
       "    }\n",
       "\n",
       "    .dataframe tbody tr th {\n",
       "        vertical-align: top;\n",
       "    }\n",
       "\n",
       "    .dataframe thead th {\n",
       "        text-align: right;\n",
       "    }\n",
       "</style>\n",
       "<table border=\"1\" class=\"dataframe\">\n",
       "  <thead>\n",
       "    <tr style=\"text-align: right;\">\n",
       "      <th></th>\n",
       "      <th>Invoice</th>\n",
       "      <th>StockCode</th>\n",
       "      <th>Description</th>\n",
       "      <th>Quantity</th>\n",
       "      <th>InvoiceDate</th>\n",
       "      <th>Price</th>\n",
       "      <th>Customer ID</th>\n",
       "      <th>Country</th>\n",
       "    </tr>\n",
       "  </thead>\n",
       "  <tbody>\n",
       "    <tr>\n",
       "      <th>0</th>\n",
       "      <td>489434</td>\n",
       "      <td>85048</td>\n",
       "      <td>15CM CHRISTMAS GLASS BALL 20 LIGHTS</td>\n",
       "      <td>12</td>\n",
       "      <td>12/1/2009 7:45</td>\n",
       "      <td>6.95</td>\n",
       "      <td>13085.0</td>\n",
       "      <td>United Kingdom</td>\n",
       "    </tr>\n",
       "    <tr>\n",
       "      <th>1</th>\n",
       "      <td>489434</td>\n",
       "      <td>79323P</td>\n",
       "      <td>PINK CHERRY LIGHTS</td>\n",
       "      <td>12</td>\n",
       "      <td>12/1/2009 7:45</td>\n",
       "      <td>6.75</td>\n",
       "      <td>13085.0</td>\n",
       "      <td>United Kingdom</td>\n",
       "    </tr>\n",
       "    <tr>\n",
       "      <th>2</th>\n",
       "      <td>489434</td>\n",
       "      <td>79323W</td>\n",
       "      <td>WHITE CHERRY LIGHTS</td>\n",
       "      <td>12</td>\n",
       "      <td>12/1/2009 7:45</td>\n",
       "      <td>6.75</td>\n",
       "      <td>13085.0</td>\n",
       "      <td>United Kingdom</td>\n",
       "    </tr>\n",
       "    <tr>\n",
       "      <th>3</th>\n",
       "      <td>489434</td>\n",
       "      <td>22041</td>\n",
       "      <td>RECORD FRAME 7\" SINGLE SIZE</td>\n",
       "      <td>48</td>\n",
       "      <td>12/1/2009 7:45</td>\n",
       "      <td>2.10</td>\n",
       "      <td>13085.0</td>\n",
       "      <td>United Kingdom</td>\n",
       "    </tr>\n",
       "    <tr>\n",
       "      <th>4</th>\n",
       "      <td>489434</td>\n",
       "      <td>21232</td>\n",
       "      <td>STRAWBERRY CERAMIC TRINKET BOX</td>\n",
       "      <td>24</td>\n",
       "      <td>12/1/2009 7:45</td>\n",
       "      <td>1.25</td>\n",
       "      <td>13085.0</td>\n",
       "      <td>United Kingdom</td>\n",
       "    </tr>\n",
       "    <tr>\n",
       "      <th>5</th>\n",
       "      <td>489434</td>\n",
       "      <td>22064</td>\n",
       "      <td>PINK DOUGHNUT TRINKET POT</td>\n",
       "      <td>24</td>\n",
       "      <td>12/1/2009 7:45</td>\n",
       "      <td>1.65</td>\n",
       "      <td>13085.0</td>\n",
       "      <td>United Kingdom</td>\n",
       "    </tr>\n",
       "    <tr>\n",
       "      <th>6</th>\n",
       "      <td>489434</td>\n",
       "      <td>21871</td>\n",
       "      <td>SAVE THE PLANET MUG</td>\n",
       "      <td>24</td>\n",
       "      <td>12/1/2009 7:45</td>\n",
       "      <td>1.25</td>\n",
       "      <td>13085.0</td>\n",
       "      <td>United Kingdom</td>\n",
       "    </tr>\n",
       "    <tr>\n",
       "      <th>7</th>\n",
       "      <td>489434</td>\n",
       "      <td>21523</td>\n",
       "      <td>FANCY FONT HOME SWEET HOME DOORMAT</td>\n",
       "      <td>10</td>\n",
       "      <td>12/1/2009 7:45</td>\n",
       "      <td>5.95</td>\n",
       "      <td>13085.0</td>\n",
       "      <td>United Kingdom</td>\n",
       "    </tr>\n",
       "    <tr>\n",
       "      <th>8</th>\n",
       "      <td>489435</td>\n",
       "      <td>22350</td>\n",
       "      <td>CAT BOWL</td>\n",
       "      <td>12</td>\n",
       "      <td>12/1/2009 7:46</td>\n",
       "      <td>2.55</td>\n",
       "      <td>13085.0</td>\n",
       "      <td>United Kingdom</td>\n",
       "    </tr>\n",
       "    <tr>\n",
       "      <th>9</th>\n",
       "      <td>489435</td>\n",
       "      <td>22349</td>\n",
       "      <td>DOG BOWL , CHASING BALL DESIGN</td>\n",
       "      <td>12</td>\n",
       "      <td>12/1/2009 7:46</td>\n",
       "      <td>3.75</td>\n",
       "      <td>13085.0</td>\n",
       "      <td>United Kingdom</td>\n",
       "    </tr>\n",
       "    <tr>\n",
       "      <th>10</th>\n",
       "      <td>489435</td>\n",
       "      <td>22195</td>\n",
       "      <td>HEART MEASURING SPOONS LARGE</td>\n",
       "      <td>24</td>\n",
       "      <td>12/1/2009 7:46</td>\n",
       "      <td>1.65</td>\n",
       "      <td>13085.0</td>\n",
       "      <td>United Kingdom</td>\n",
       "    </tr>\n",
       "  </tbody>\n",
       "</table>\n",
       "</div>"
      ],
      "text/plain": [
       "   Invoice StockCode                          Description  Quantity  \\\n",
       "0   489434     85048  15CM CHRISTMAS GLASS BALL 20 LIGHTS        12   \n",
       "1   489434    79323P                   PINK CHERRY LIGHTS        12   \n",
       "2   489434    79323W                  WHITE CHERRY LIGHTS        12   \n",
       "3   489434     22041         RECORD FRAME 7\" SINGLE SIZE         48   \n",
       "4   489434     21232       STRAWBERRY CERAMIC TRINKET BOX        24   \n",
       "5   489434     22064           PINK DOUGHNUT TRINKET POT         24   \n",
       "6   489434     21871                  SAVE THE PLANET MUG        24   \n",
       "7   489434     21523   FANCY FONT HOME SWEET HOME DOORMAT        10   \n",
       "8   489435     22350                            CAT BOWL         12   \n",
       "9   489435     22349       DOG BOWL , CHASING BALL DESIGN        12   \n",
       "10  489435     22195         HEART MEASURING SPOONS LARGE        24   \n",
       "\n",
       "       InvoiceDate  Price  Customer ID         Country  \n",
       "0   12/1/2009 7:45   6.95      13085.0  United Kingdom  \n",
       "1   12/1/2009 7:45   6.75      13085.0  United Kingdom  \n",
       "2   12/1/2009 7:45   6.75      13085.0  United Kingdom  \n",
       "3   12/1/2009 7:45   2.10      13085.0  United Kingdom  \n",
       "4   12/1/2009 7:45   1.25      13085.0  United Kingdom  \n",
       "5   12/1/2009 7:45   1.65      13085.0  United Kingdom  \n",
       "6   12/1/2009 7:45   1.25      13085.0  United Kingdom  \n",
       "7   12/1/2009 7:45   5.95      13085.0  United Kingdom  \n",
       "8   12/1/2009 7:46   2.55      13085.0  United Kingdom  \n",
       "9   12/1/2009 7:46   3.75      13085.0  United Kingdom  \n",
       "10  12/1/2009 7:46   1.65      13085.0  United Kingdom  "
      ]
     },
     "execution_count": 3,
     "metadata": {},
     "output_type": "execute_result"
    }
   ],
   "source": [
    "#Reading and copy of data\n",
    "online_retail = pd.read_csv('/kaggle/input/yr2009-2010-retail-online-data/Year 2009-2010.csv',encoding= 'unicode_escape')\n",
    "df = online_retail.copy()\n",
    "df.head(11)"
   ]
  },
  {
   "cell_type": "markdown",
   "id": "f167f44b",
   "metadata": {
    "papermill": {
     "duration": 0.010876,
     "end_time": "2023-08-14T14:49:34.359479",
     "exception": false,
     "start_time": "2023-08-14T14:49:34.348603",
     "status": "completed"
    },
    "tags": []
   },
   "source": [
    "# Data Preparation and Preprocessing"
   ]
  },
  {
   "cell_type": "code",
   "execution_count": 4,
   "id": "5f28bcce",
   "metadata": {
    "execution": {
     "iopub.execute_input": "2023-08-14T14:49:34.383757Z",
     "iopub.status.busy": "2023-08-14T14:49:34.383327Z",
     "iopub.status.idle": "2023-08-14T14:49:34.492684Z",
     "shell.execute_reply": "2023-08-14T14:49:34.491451Z"
    },
    "papermill": {
     "duration": 0.124782,
     "end_time": "2023-08-14T14:49:34.495309",
     "exception": false,
     "start_time": "2023-08-14T14:49:34.370527",
     "status": "completed"
    },
    "tags": []
   },
   "outputs": [
    {
     "name": "stdout",
     "output_type": "stream",
     "text": [
      "################ Shape ####################\n",
      "(525461, 8)\n",
      "############### Columns ###################\n",
      "Index(['Invoice', 'StockCode', 'Description', 'Quantity', 'InvoiceDate',\n",
      "       'Price', 'Customer ID', 'Country'],\n",
      "      dtype='object')\n",
      "############### Types #####################\n",
      "Invoice         object\n",
      "StockCode       object\n",
      "Description     object\n",
      "Quantity         int64\n",
      "InvoiceDate     object\n",
      "Price          float64\n",
      "Customer ID    float64\n",
      "Country         object\n",
      "dtype: object\n",
      "############### Head ######################\n",
      "  Invoice StockCode                          Description  Quantity  \\\n",
      "0  489434     85048  15CM CHRISTMAS GLASS BALL 20 LIGHTS        12   \n",
      "1  489434    79323P                   PINK CHERRY LIGHTS        12   \n",
      "2  489434    79323W                  WHITE CHERRY LIGHTS        12   \n",
      "3  489434     22041         RECORD FRAME 7\" SINGLE SIZE         48   \n",
      "4  489434     21232       STRAWBERRY CERAMIC TRINKET BOX        24   \n",
      "\n",
      "      InvoiceDate  Price  Customer ID         Country  \n",
      "0  12/1/2009 7:45   6.95      13085.0  United Kingdom  \n",
      "1  12/1/2009 7:45   6.75      13085.0  United Kingdom  \n",
      "2  12/1/2009 7:45   6.75      13085.0  United Kingdom  \n",
      "3  12/1/2009 7:45   2.10      13085.0  United Kingdom  \n",
      "4  12/1/2009 7:45   1.25      13085.0  United Kingdom  \n",
      "############### Tail ######################\n",
      "       Invoice StockCode                         Description  Quantity  \\\n",
      "525456  538171     22271                FELTCRAFT DOLL ROSIE         2   \n",
      "525457  538171     22750        FELTCRAFT PRINCESS LOLA DOLL         1   \n",
      "525458  538171     22751      FELTCRAFT PRINCESS OLIVIA DOLL         1   \n",
      "525459  538171     20970  PINK FLORAL FELTCRAFT SHOULDER BAG         2   \n",
      "525460  538171     21931              JUMBO STORAGE BAG SUKI         2   \n",
      "\n",
      "            InvoiceDate  Price  Customer ID         Country  \n",
      "525456  12/9/2010 20:01   2.95      17530.0  United Kingdom  \n",
      "525457  12/9/2010 20:01   3.75      17530.0  United Kingdom  \n",
      "525458  12/9/2010 20:01   3.75      17530.0  United Kingdom  \n",
      "525459  12/9/2010 20:01   3.75      17530.0  United Kingdom  \n",
      "525460  12/9/2010 20:01   1.95      17530.0  United Kingdom  \n",
      "############### Describe ###################\n",
      "                count          mean          std       min       25%      50%  \\\n",
      "Quantity     525461.0     10.337667   107.424110  -9600.00      1.00      3.0   \n",
      "Price        525461.0      4.688834   146.126914 -53594.36      1.25      2.1   \n",
      "Customer ID  417534.0  15360.645478  1680.811316  12346.00  13983.00  15311.0   \n",
      "\n",
      "                  75%       max  \n",
      "Quantity        10.00  19152.00  \n",
      "Price            4.21  25111.09  \n",
      "Customer ID  16799.00  18287.00  \n"
     ]
    }
   ],
   "source": [
    "def check_df(dataframe):\n",
    "    print(\"################ Shape ####################\")\n",
    "    print(dataframe.shape)\n",
    "    print(\"############### Columns ###################\")\n",
    "    print(dataframe.columns)\n",
    "    print(\"############### Types #####################\")\n",
    "    print(dataframe.dtypes)\n",
    "    print(\"############### Head ######################\")\n",
    "    print(dataframe.head())\n",
    "    print(\"############### Tail ######################\")\n",
    "    print(dataframe.tail())\n",
    "    print(\"############### Describe ###################\")\n",
    "    print(dataframe.describe().T)\n",
    "\n",
    "check_df(df)"
   ]
  },
  {
   "cell_type": "markdown",
   "id": "b9874328",
   "metadata": {
    "papermill": {
     "duration": 0.010887,
     "end_time": "2023-08-14T14:49:34.517517",
     "exception": false,
     "start_time": "2023-08-14T14:49:34.506630",
     "status": "completed"
    },
    "tags": []
   },
   "source": [
    "# Answering Some Questions About Data"
   ]
  },
  {
   "cell_type": "code",
   "execution_count": 5,
   "id": "cec5fbc8",
   "metadata": {
    "execution": {
     "iopub.execute_input": "2023-08-14T14:49:34.542425Z",
     "iopub.status.busy": "2023-08-14T14:49:34.541124Z",
     "iopub.status.idle": "2023-08-14T14:49:35.388476Z",
     "shell.execute_reply": "2023-08-14T14:49:35.387434Z"
    },
    "papermill": {
     "duration": 0.862583,
     "end_time": "2023-08-14T14:49:35.391235",
     "exception": false,
     "start_time": "2023-08-14T14:49:34.528652",
     "status": "completed"
    },
    "tags": []
   },
   "outputs": [
    {
     "data": {
      "text/plain": [
       "Invoice             0\n",
       "StockCode           0\n",
       "Description      2928\n",
       "Quantity            0\n",
       "InvoiceDate         0\n",
       "Price               0\n",
       "Customer ID    107927\n",
       "Country             0\n",
       "dtype: int64"
      ]
     },
     "execution_count": 5,
     "metadata": {},
     "output_type": "execute_result"
    }
   ],
   "source": [
    "#Are there any missing observations in the dataset?\n",
    "df.isnull().sum()"
   ]
  },
  {
   "cell_type": "code",
   "execution_count": 6,
   "id": "0243a7c2",
   "metadata": {
    "execution": {
     "iopub.execute_input": "2023-08-14T14:49:35.416848Z",
     "iopub.status.busy": "2023-08-14T14:49:35.416435Z",
     "iopub.status.idle": "2023-08-14T14:49:36.287008Z",
     "shell.execute_reply": "2023-08-14T14:49:36.285765Z"
    },
    "papermill": {
     "duration": 0.887366,
     "end_time": "2023-08-14T14:49:36.290022",
     "exception": false,
     "start_time": "2023-08-14T14:49:35.402656",
     "status": "completed"
    },
    "tags": []
   },
   "outputs": [],
   "source": [
    "#Remove the missing observations from the dataset\n",
    "df.dropna(inplace=True)"
   ]
  },
  {
   "cell_type": "code",
   "execution_count": 7,
   "id": "38e0b667",
   "metadata": {
    "execution": {
     "iopub.execute_input": "2023-08-14T14:49:36.315348Z",
     "iopub.status.busy": "2023-08-14T14:49:36.314772Z",
     "iopub.status.idle": "2023-08-14T14:49:37.004883Z",
     "shell.execute_reply": "2023-08-14T14:49:37.003633Z"
    },
    "papermill": {
     "duration": 0.705676,
     "end_time": "2023-08-14T14:49:37.007640",
     "exception": false,
     "start_time": "2023-08-14T14:49:36.301964",
     "status": "completed"
    },
    "tags": []
   },
   "outputs": [
    {
     "data": {
      "text/plain": [
       "Invoice        0\n",
       "StockCode      0\n",
       "Description    0\n",
       "Quantity       0\n",
       "InvoiceDate    0\n",
       "Price          0\n",
       "Customer ID    0\n",
       "Country        0\n",
       "dtype: int64"
      ]
     },
     "execution_count": 7,
     "metadata": {},
     "output_type": "execute_result"
    }
   ],
   "source": [
    "df.isnull().sum() # for Checking now null values which is removed or not "
   ]
  },
  {
   "cell_type": "code",
   "execution_count": 8,
   "id": "608b6fff",
   "metadata": {
    "execution": {
     "iopub.execute_input": "2023-08-14T14:49:37.033039Z",
     "iopub.status.busy": "2023-08-14T14:49:37.032620Z",
     "iopub.status.idle": "2023-08-14T14:49:37.104779Z",
     "shell.execute_reply": "2023-08-14T14:49:37.103821Z"
    },
    "papermill": {
     "duration": 0.087935,
     "end_time": "2023-08-14T14:49:37.107310",
     "exception": false,
     "start_time": "2023-08-14T14:49:37.019375",
     "status": "completed"
    },
    "tags": []
   },
   "outputs": [
    {
     "data": {
      "text/plain": [
       "4459"
      ]
     },
     "execution_count": 8,
     "metadata": {},
     "output_type": "execute_result"
    }
   ],
   "source": [
    "#How many unique items in the dataset?\n",
    "df[\"Description\"].nunique()"
   ]
  },
  {
   "cell_type": "code",
   "execution_count": 9,
   "id": "0281987e",
   "metadata": {
    "execution": {
     "iopub.execute_input": "2023-08-14T14:49:37.134001Z",
     "iopub.status.busy": "2023-08-14T14:49:37.133346Z",
     "iopub.status.idle": "2023-08-14T14:49:37.224655Z",
     "shell.execute_reply": "2023-08-14T14:49:37.223784Z"
    },
    "papermill": {
     "duration": 0.107175,
     "end_time": "2023-08-14T14:49:37.227027",
     "exception": false,
     "start_time": "2023-08-14T14:49:37.119852",
     "status": "completed"
    },
    "tags": []
   },
   "outputs": [
    {
     "data": {
      "text/plain": [
       "WHITE HANGING HEART T-LIGHT HOLDER    3245\n",
       "REGENCY CAKESTAND 3 TIER              1872\n",
       "STRAWBERRY CERAMIC TRINKET BOX        1536\n",
       "ASSORTED COLOUR BIRD ORNAMENT         1376\n",
       "HOME BUILDING BLOCK WORD              1229\n",
       "                                      ... \n",
       "BLUE OWL DECORATION                      1\n",
       "PINK OWL DECORATION                      1\n",
       "IVORY WALL CLOCK                         1\n",
       "RED WALL CLOCK                           1\n",
       "BAKING MOULD EASTER EGG MILK CHOC        1\n",
       "Name: Description, Length: 4459, dtype: int64"
      ]
     },
     "execution_count": 9,
     "metadata": {},
     "output_type": "execute_result"
    }
   ],
   "source": [
    "#How many product in the dataset?\n",
    "df[\"Description\"].value_counts()"
   ]
  },
  {
   "cell_type": "code",
   "execution_count": 10,
   "id": "297a7c72",
   "metadata": {
    "execution": {
     "iopub.execute_input": "2023-08-14T14:49:37.252931Z",
     "iopub.status.busy": "2023-08-14T14:49:37.252312Z",
     "iopub.status.idle": "2023-08-14T14:49:37.351315Z",
     "shell.execute_reply": "2023-08-14T14:49:37.349857Z"
    },
    "papermill": {
     "duration": 0.115054,
     "end_time": "2023-08-14T14:49:37.353983",
     "exception": false,
     "start_time": "2023-08-14T14:49:37.238929",
     "status": "completed"
    },
    "tags": []
   },
   "outputs": [
    {
     "data": {
      "text/html": [
       "<div>\n",
       "<style scoped>\n",
       "    .dataframe tbody tr th:only-of-type {\n",
       "        vertical-align: middle;\n",
       "    }\n",
       "\n",
       "    .dataframe tbody tr th {\n",
       "        vertical-align: top;\n",
       "    }\n",
       "\n",
       "    .dataframe thead th {\n",
       "        text-align: right;\n",
       "    }\n",
       "</style>\n",
       "<table border=\"1\" class=\"dataframe\">\n",
       "  <thead>\n",
       "    <tr style=\"text-align: right;\">\n",
       "      <th></th>\n",
       "      <th>Quantity</th>\n",
       "    </tr>\n",
       "    <tr>\n",
       "      <th>Description</th>\n",
       "      <th></th>\n",
       "    </tr>\n",
       "  </thead>\n",
       "  <tbody>\n",
       "    <tr>\n",
       "      <th>WHITE HANGING HEART T-LIGHT HOLDER</th>\n",
       "      <td>55861</td>\n",
       "    </tr>\n",
       "    <tr>\n",
       "      <th>WORLD WAR 2 GLIDERS ASSTD DESIGNS</th>\n",
       "      <td>54274</td>\n",
       "    </tr>\n",
       "    <tr>\n",
       "      <th>BROCADE RING PURSE</th>\n",
       "      <td>47430</td>\n",
       "    </tr>\n",
       "    <tr>\n",
       "      <th>PACK OF 72 RETRO SPOT CAKE CASES</th>\n",
       "      <td>44507</td>\n",
       "    </tr>\n",
       "    <tr>\n",
       "      <th>ASSORTED COLOUR BIRD ORNAMENT</th>\n",
       "      <td>44120</td>\n",
       "    </tr>\n",
       "    <tr>\n",
       "      <th>60 TEATIME FAIRY CAKE CASES</th>\n",
       "      <td>35630</td>\n",
       "    </tr>\n",
       "    <tr>\n",
       "      <th>PACK OF 60 PINK PAISLEY CAKE CASES</th>\n",
       "      <td>30888</td>\n",
       "    </tr>\n",
       "    <tr>\n",
       "      <th>JUMBO BAG RED RETROSPOT</th>\n",
       "      <td>29498</td>\n",
       "    </tr>\n",
       "    <tr>\n",
       "      <th>BLACK AND WHITE PAISLEY FLOWER MUG</th>\n",
       "      <td>25679</td>\n",
       "    </tr>\n",
       "    <tr>\n",
       "      <th>SMALL POPCORN HOLDER</th>\n",
       "      <td>25394</td>\n",
       "    </tr>\n",
       "  </tbody>\n",
       "</table>\n",
       "</div>"
      ],
      "text/plain": [
       "                                    Quantity\n",
       "Description                                 \n",
       "WHITE HANGING HEART T-LIGHT HOLDER     55861\n",
       "WORLD WAR 2 GLIDERS ASSTD DESIGNS      54274\n",
       "BROCADE RING PURSE                     47430\n",
       "PACK OF 72 RETRO SPOT CAKE CASES       44507\n",
       "ASSORTED COLOUR BIRD ORNAMENT          44120\n",
       "60 TEATIME FAIRY CAKE CASES            35630\n",
       "PACK OF 60 PINK PAISLEY CAKE CASES     30888\n",
       "JUMBO BAG RED RETROSPOT                29498\n",
       "BLACK AND WHITE PAISLEY FLOWER MUG     25679\n",
       "SMALL POPCORN HOLDER                   25394"
      ]
     },
     "execution_count": 10,
     "metadata": {},
     "output_type": "execute_result"
    }
   ],
   "source": [
    "#Rank the 10 most ordered products from most to least\n",
    "df.groupby(\"Description\").agg({\"Quantity\":\"sum\"}).sort_values(\"Quantity\", ascending=False).head(10)"
   ]
  },
  {
   "cell_type": "code",
   "execution_count": 11,
   "id": "d67c55dc",
   "metadata": {
    "execution": {
     "iopub.execute_input": "2023-08-14T14:49:37.380607Z",
     "iopub.status.busy": "2023-08-14T14:49:37.380189Z",
     "iopub.status.idle": "2023-08-14T14:49:37.683327Z",
     "shell.execute_reply": "2023-08-14T14:49:37.681906Z"
    },
    "papermill": {
     "duration": 0.319791,
     "end_time": "2023-08-14T14:49:37.686168",
     "exception": false,
     "start_time": "2023-08-14T14:49:37.366377",
     "status": "completed"
    },
    "tags": []
   },
   "outputs": [],
   "source": [
    "#Remove the canceled transactions from the dataset\n",
    "df = df[~df[\"Invoice\"].str.contains(\"C\", na=False)]"
   ]
  },
  {
   "cell_type": "code",
   "execution_count": 12,
   "id": "9885c6c0",
   "metadata": {
    "execution": {
     "iopub.execute_input": "2023-08-14T14:49:37.713216Z",
     "iopub.status.busy": "2023-08-14T14:49:37.712785Z",
     "iopub.status.idle": "2023-08-14T14:49:37.720851Z",
     "shell.execute_reply": "2023-08-14T14:49:37.719657Z"
    },
    "papermill": {
     "duration": 0.024508,
     "end_time": "2023-08-14T14:49:37.723319",
     "exception": false,
     "start_time": "2023-08-14T14:49:37.698811",
     "status": "completed"
    },
    "tags": []
   },
   "outputs": [],
   "source": [
    "#The total amount of each invoice and we create that column just multiply 'Price' and 'Quantity'\n",
    "df[\"TotalPrice\"] = df[\"Quantity\"] * df[\"Price\"]"
   ]
  },
  {
   "cell_type": "markdown",
   "id": "690a7eb6",
   "metadata": {
    "papermill": {
     "duration": 0.012185,
     "end_time": "2023-08-14T14:49:37.747842",
     "exception": false,
     "start_time": "2023-08-14T14:49:37.735657",
     "status": "completed"
    },
    "tags": []
   },
   "source": [
    "# Calculating of RFM Metrics"
   ]
  },
  {
   "cell_type": "code",
   "execution_count": 13,
   "id": "ab7e5dd1",
   "metadata": {
    "execution": {
     "iopub.execute_input": "2023-08-14T14:49:37.773920Z",
     "iopub.status.busy": "2023-08-14T14:49:37.773524Z",
     "iopub.status.idle": "2023-08-14T14:49:37.800268Z",
     "shell.execute_reply": "2023-08-14T14:49:37.799066Z"
    },
    "papermill": {
     "duration": 0.042696,
     "end_time": "2023-08-14T14:49:37.802720",
     "exception": false,
     "start_time": "2023-08-14T14:49:37.760024",
     "status": "completed"
    },
    "tags": []
   },
   "outputs": [
    {
     "data": {
      "text/html": [
       "<div>\n",
       "<style scoped>\n",
       "    .dataframe tbody tr th:only-of-type {\n",
       "        vertical-align: middle;\n",
       "    }\n",
       "\n",
       "    .dataframe tbody tr th {\n",
       "        vertical-align: top;\n",
       "    }\n",
       "\n",
       "    .dataframe thead th {\n",
       "        text-align: right;\n",
       "    }\n",
       "</style>\n",
       "<table border=\"1\" class=\"dataframe\">\n",
       "  <thead>\n",
       "    <tr style=\"text-align: right;\">\n",
       "      <th></th>\n",
       "      <th>Invoice</th>\n",
       "      <th>StockCode</th>\n",
       "      <th>Description</th>\n",
       "      <th>Quantity</th>\n",
       "      <th>InvoiceDate</th>\n",
       "      <th>Price</th>\n",
       "      <th>Customer ID</th>\n",
       "      <th>Country</th>\n",
       "      <th>TotalPrice</th>\n",
       "    </tr>\n",
       "  </thead>\n",
       "  <tbody>\n",
       "    <tr>\n",
       "      <th>0</th>\n",
       "      <td>489434</td>\n",
       "      <td>85048</td>\n",
       "      <td>15CM CHRISTMAS GLASS BALL 20 LIGHTS</td>\n",
       "      <td>12</td>\n",
       "      <td>12/1/2009 7:45</td>\n",
       "      <td>6.95</td>\n",
       "      <td>13085.0</td>\n",
       "      <td>United Kingdom</td>\n",
       "      <td>83.4</td>\n",
       "    </tr>\n",
       "    <tr>\n",
       "      <th>1</th>\n",
       "      <td>489434</td>\n",
       "      <td>79323P</td>\n",
       "      <td>PINK CHERRY LIGHTS</td>\n",
       "      <td>12</td>\n",
       "      <td>12/1/2009 7:45</td>\n",
       "      <td>6.75</td>\n",
       "      <td>13085.0</td>\n",
       "      <td>United Kingdom</td>\n",
       "      <td>81.0</td>\n",
       "    </tr>\n",
       "    <tr>\n",
       "      <th>2</th>\n",
       "      <td>489434</td>\n",
       "      <td>79323W</td>\n",
       "      <td>WHITE CHERRY LIGHTS</td>\n",
       "      <td>12</td>\n",
       "      <td>12/1/2009 7:45</td>\n",
       "      <td>6.75</td>\n",
       "      <td>13085.0</td>\n",
       "      <td>United Kingdom</td>\n",
       "      <td>81.0</td>\n",
       "    </tr>\n",
       "    <tr>\n",
       "      <th>3</th>\n",
       "      <td>489434</td>\n",
       "      <td>22041</td>\n",
       "      <td>RECORD FRAME 7\" SINGLE SIZE</td>\n",
       "      <td>48</td>\n",
       "      <td>12/1/2009 7:45</td>\n",
       "      <td>2.10</td>\n",
       "      <td>13085.0</td>\n",
       "      <td>United Kingdom</td>\n",
       "      <td>100.8</td>\n",
       "    </tr>\n",
       "    <tr>\n",
       "      <th>4</th>\n",
       "      <td>489434</td>\n",
       "      <td>21232</td>\n",
       "      <td>STRAWBERRY CERAMIC TRINKET BOX</td>\n",
       "      <td>24</td>\n",
       "      <td>12/1/2009 7:45</td>\n",
       "      <td>1.25</td>\n",
       "      <td>13085.0</td>\n",
       "      <td>United Kingdom</td>\n",
       "      <td>30.0</td>\n",
       "    </tr>\n",
       "    <tr>\n",
       "      <th>5</th>\n",
       "      <td>489434</td>\n",
       "      <td>22064</td>\n",
       "      <td>PINK DOUGHNUT TRINKET POT</td>\n",
       "      <td>24</td>\n",
       "      <td>12/1/2009 7:45</td>\n",
       "      <td>1.65</td>\n",
       "      <td>13085.0</td>\n",
       "      <td>United Kingdom</td>\n",
       "      <td>39.6</td>\n",
       "    </tr>\n",
       "  </tbody>\n",
       "</table>\n",
       "</div>"
      ],
      "text/plain": [
       "  Invoice StockCode                          Description  Quantity  \\\n",
       "0  489434     85048  15CM CHRISTMAS GLASS BALL 20 LIGHTS        12   \n",
       "1  489434    79323P                   PINK CHERRY LIGHTS        12   \n",
       "2  489434    79323W                  WHITE CHERRY LIGHTS        12   \n",
       "3  489434     22041         RECORD FRAME 7\" SINGLE SIZE         48   \n",
       "4  489434     21232       STRAWBERRY CERAMIC TRINKET BOX        24   \n",
       "5  489434     22064           PINK DOUGHNUT TRINKET POT         24   \n",
       "\n",
       "      InvoiceDate  Price  Customer ID         Country  TotalPrice  \n",
       "0  12/1/2009 7:45   6.95      13085.0  United Kingdom        83.4  \n",
       "1  12/1/2009 7:45   6.75      13085.0  United Kingdom        81.0  \n",
       "2  12/1/2009 7:45   6.75      13085.0  United Kingdom        81.0  \n",
       "3  12/1/2009 7:45   2.10      13085.0  United Kingdom       100.8  \n",
       "4  12/1/2009 7:45   1.25      13085.0  United Kingdom        30.0  \n",
       "5  12/1/2009 7:45   1.65      13085.0  United Kingdom        39.6  "
      ]
     },
     "execution_count": 13,
     "metadata": {},
     "output_type": "execute_result"
    }
   ],
   "source": [
    "df.head(6)"
   ]
  },
  {
   "cell_type": "code",
   "execution_count": 14,
   "id": "8c2b9d53",
   "metadata": {
    "execution": {
     "iopub.execute_input": "2023-08-14T14:49:37.830318Z",
     "iopub.status.busy": "2023-08-14T14:49:37.829328Z",
     "iopub.status.idle": "2023-08-14T14:49:37.837171Z",
     "shell.execute_reply": "2023-08-14T14:49:37.836302Z"
    },
    "papermill": {
     "duration": 0.024448,
     "end_time": "2023-08-14T14:49:37.839564",
     "exception": false,
     "start_time": "2023-08-14T14:49:37.815116",
     "status": "completed"
    },
    "tags": []
   },
   "outputs": [
    {
     "data": {
      "text/plain": [
       "Invoice         object\n",
       "StockCode       object\n",
       "Description     object\n",
       "Quantity         int64\n",
       "InvoiceDate     object\n",
       "Price          float64\n",
       "Customer ID    float64\n",
       "Country         object\n",
       "TotalPrice     float64\n",
       "dtype: object"
      ]
     },
     "execution_count": 14,
     "metadata": {},
     "output_type": "execute_result"
    }
   ],
   "source": [
    "df.dtypes"
   ]
  },
  {
   "cell_type": "code",
   "execution_count": 15,
   "id": "0c19865a",
   "metadata": {
    "execution": {
     "iopub.execute_input": "2023-08-14T14:49:37.867567Z",
     "iopub.status.busy": "2023-08-14T14:49:37.866805Z",
     "iopub.status.idle": "2023-08-14T14:49:40.001126Z",
     "shell.execute_reply": "2023-08-14T14:49:39.999763Z"
    },
    "papermill": {
     "duration": 2.151587,
     "end_time": "2023-08-14T14:49:40.004223",
     "exception": false,
     "start_time": "2023-08-14T14:49:37.852636",
     "status": "completed"
    },
    "tags": []
   },
   "outputs": [],
   "source": [
    "df[\"InvoiceDate\"]=pd.to_datetime(df[\"InvoiceDate\"])"
   ]
  },
  {
   "cell_type": "code",
   "execution_count": 16,
   "id": "08d7f4f0",
   "metadata": {
    "execution": {
     "iopub.execute_input": "2023-08-14T14:49:40.032549Z",
     "iopub.status.busy": "2023-08-14T14:49:40.032128Z",
     "iopub.status.idle": "2023-08-14T14:49:40.041815Z",
     "shell.execute_reply": "2023-08-14T14:49:40.040815Z"
    },
    "papermill": {
     "duration": 0.02621,
     "end_time": "2023-08-14T14:49:40.044305",
     "exception": false,
     "start_time": "2023-08-14T14:49:40.018095",
     "status": "completed"
    },
    "tags": []
   },
   "outputs": [
    {
     "data": {
      "text/plain": [
       "Timestamp('2010-12-09 20:01:00')"
      ]
     },
     "execution_count": 16,
     "metadata": {},
     "output_type": "execute_result"
    }
   ],
   "source": [
    "df[\"InvoiceDate\"].max()"
   ]
  },
  {
   "cell_type": "code",
   "execution_count": 17,
   "id": "eb3f1a9a",
   "metadata": {
    "execution": {
     "iopub.execute_input": "2023-08-14T14:49:40.072145Z",
     "iopub.status.busy": "2023-08-14T14:49:40.071169Z",
     "iopub.status.idle": "2023-08-14T14:49:40.076196Z",
     "shell.execute_reply": "2023-08-14T14:49:40.075404Z"
    },
    "papermill": {
     "duration": 0.021487,
     "end_time": "2023-08-14T14:49:40.078605",
     "exception": false,
     "start_time": "2023-08-14T14:49:40.057118",
     "status": "completed"
    },
    "tags": []
   },
   "outputs": [],
   "source": [
    "today_date = dt.datetime(2010, 12, 11)"
   ]
  },
  {
   "cell_type": "code",
   "execution_count": 18,
   "id": "ec0bf9ef",
   "metadata": {
    "execution": {
     "iopub.execute_input": "2023-08-14T14:49:40.106754Z",
     "iopub.status.busy": "2023-08-14T14:49:40.105884Z",
     "iopub.status.idle": "2023-08-14T14:49:40.113290Z",
     "shell.execute_reply": "2023-08-14T14:49:40.112315Z"
    },
    "papermill": {
     "duration": 0.023833,
     "end_time": "2023-08-14T14:49:40.115472",
     "exception": false,
     "start_time": "2023-08-14T14:49:40.091639",
     "status": "completed"
    },
    "tags": []
   },
   "outputs": [
    {
     "data": {
      "text/plain": [
       "datetime.datetime(2010, 12, 11, 0, 0)"
      ]
     },
     "execution_count": 18,
     "metadata": {},
     "output_type": "execute_result"
    }
   ],
   "source": [
    "today_date"
   ]
  },
  {
   "cell_type": "markdown",
   "id": "abdc554d",
   "metadata": {
    "papermill": {
     "duration": 0.012481,
     "end_time": "2023-08-14T14:49:40.141471",
     "exception": false,
     "start_time": "2023-08-14T14:49:40.128990",
     "status": "completed"
    },
    "tags": []
   },
   "source": [
    "# Recency"
   ]
  },
  {
   "cell_type": "code",
   "execution_count": 19,
   "id": "d196e0d2",
   "metadata": {
    "execution": {
     "iopub.execute_input": "2023-08-14T14:49:40.170842Z",
     "iopub.status.busy": "2023-08-14T14:49:40.169887Z",
     "iopub.status.idle": "2023-08-14T14:49:41.680001Z",
     "shell.execute_reply": "2023-08-14T14:49:41.679080Z"
    },
    "papermill": {
     "duration": 1.528025,
     "end_time": "2023-08-14T14:49:41.682851",
     "exception": false,
     "start_time": "2023-08-14T14:49:40.154826",
     "status": "completed"
    },
    "tags": []
   },
   "outputs": [],
   "source": [
    "#Determining the analysis date for the recency \n",
    "df[\"InvoiceDate\"].max()\n",
    "today_date = dt.datetime(2010, 12, 11)\n",
    "rfm = df.groupby('Customer ID').agg({'InvoiceDate': lambda date: (today_date - date.max()).days,\n",
    "                                     'Invoice': lambda num: num.nunique(),\n",
    "                                     'TotalPrice': lambda TotalPrice: TotalPrice.sum()})"
   ]
  },
  {
   "cell_type": "code",
   "execution_count": 20,
   "id": "a035de3a",
   "metadata": {
    "execution": {
     "iopub.execute_input": "2023-08-14T14:49:41.710467Z",
     "iopub.status.busy": "2023-08-14T14:49:41.710026Z",
     "iopub.status.idle": "2023-08-14T14:49:41.727620Z",
     "shell.execute_reply": "2023-08-14T14:49:41.726466Z"
    },
    "papermill": {
     "duration": 0.034293,
     "end_time": "2023-08-14T14:49:41.730094",
     "exception": false,
     "start_time": "2023-08-14T14:49:41.695801",
     "status": "completed"
    },
    "tags": []
   },
   "outputs": [
    {
     "data": {
      "text/html": [
       "<div>\n",
       "<style scoped>\n",
       "    .dataframe tbody tr th:only-of-type {\n",
       "        vertical-align: middle;\n",
       "    }\n",
       "\n",
       "    .dataframe tbody tr th {\n",
       "        vertical-align: top;\n",
       "    }\n",
       "\n",
       "    .dataframe thead th {\n",
       "        text-align: right;\n",
       "    }\n",
       "</style>\n",
       "<table border=\"1\" class=\"dataframe\">\n",
       "  <thead>\n",
       "    <tr style=\"text-align: right;\">\n",
       "      <th></th>\n",
       "      <th>InvoiceDate</th>\n",
       "      <th>Invoice</th>\n",
       "      <th>TotalPrice</th>\n",
       "    </tr>\n",
       "    <tr>\n",
       "      <th>Customer ID</th>\n",
       "      <th></th>\n",
       "      <th></th>\n",
       "      <th></th>\n",
       "    </tr>\n",
       "  </thead>\n",
       "  <tbody>\n",
       "    <tr>\n",
       "      <th>12346.0</th>\n",
       "      <td>165</td>\n",
       "      <td>11</td>\n",
       "      <td>372.86</td>\n",
       "    </tr>\n",
       "    <tr>\n",
       "      <th>12347.0</th>\n",
       "      <td>3</td>\n",
       "      <td>2</td>\n",
       "      <td>1323.32</td>\n",
       "    </tr>\n",
       "    <tr>\n",
       "      <th>12348.0</th>\n",
       "      <td>74</td>\n",
       "      <td>1</td>\n",
       "      <td>222.16</td>\n",
       "    </tr>\n",
       "    <tr>\n",
       "      <th>12349.0</th>\n",
       "      <td>43</td>\n",
       "      <td>3</td>\n",
       "      <td>2671.14</td>\n",
       "    </tr>\n",
       "    <tr>\n",
       "      <th>12351.0</th>\n",
       "      <td>11</td>\n",
       "      <td>1</td>\n",
       "      <td>300.93</td>\n",
       "    </tr>\n",
       "    <tr>\n",
       "      <th>...</th>\n",
       "      <td>...</td>\n",
       "      <td>...</td>\n",
       "      <td>...</td>\n",
       "    </tr>\n",
       "    <tr>\n",
       "      <th>18283.0</th>\n",
       "      <td>18</td>\n",
       "      <td>6</td>\n",
       "      <td>641.77</td>\n",
       "    </tr>\n",
       "    <tr>\n",
       "      <th>18284.0</th>\n",
       "      <td>67</td>\n",
       "      <td>1</td>\n",
       "      <td>461.68</td>\n",
       "    </tr>\n",
       "    <tr>\n",
       "      <th>18285.0</th>\n",
       "      <td>296</td>\n",
       "      <td>1</td>\n",
       "      <td>427.00</td>\n",
       "    </tr>\n",
       "    <tr>\n",
       "      <th>18286.0</th>\n",
       "      <td>112</td>\n",
       "      <td>2</td>\n",
       "      <td>1296.43</td>\n",
       "    </tr>\n",
       "    <tr>\n",
       "      <th>18287.0</th>\n",
       "      <td>18</td>\n",
       "      <td>4</td>\n",
       "      <td>2345.71</td>\n",
       "    </tr>\n",
       "  </tbody>\n",
       "</table>\n",
       "<p>4314 rows × 3 columns</p>\n",
       "</div>"
      ],
      "text/plain": [
       "             InvoiceDate  Invoice  TotalPrice\n",
       "Customer ID                                  \n",
       "12346.0              165       11      372.86\n",
       "12347.0                3        2     1323.32\n",
       "12348.0               74        1      222.16\n",
       "12349.0               43        3     2671.14\n",
       "12351.0               11        1      300.93\n",
       "...                  ...      ...         ...\n",
       "18283.0               18        6      641.77\n",
       "18284.0               67        1      461.68\n",
       "18285.0              296        1      427.00\n",
       "18286.0              112        2     1296.43\n",
       "18287.0               18        4     2345.71\n",
       "\n",
       "[4314 rows x 3 columns]"
      ]
     },
     "execution_count": 20,
     "metadata": {},
     "output_type": "execute_result"
    }
   ],
   "source": [
    "rfm"
   ]
  },
  {
   "cell_type": "code",
   "execution_count": 21,
   "id": "fd0b8192",
   "metadata": {
    "execution": {
     "iopub.execute_input": "2023-08-14T14:49:41.758698Z",
     "iopub.status.busy": "2023-08-14T14:49:41.757625Z",
     "iopub.status.idle": "2023-08-14T14:49:41.773868Z",
     "shell.execute_reply": "2023-08-14T14:49:41.772738Z"
    },
    "papermill": {
     "duration": 0.03311,
     "end_time": "2023-08-14T14:49:41.776334",
     "exception": false,
     "start_time": "2023-08-14T14:49:41.743224",
     "status": "completed"
    },
    "tags": []
   },
   "outputs": [
    {
     "data": {
      "text/html": [
       "<div>\n",
       "<style scoped>\n",
       "    .dataframe tbody tr th:only-of-type {\n",
       "        vertical-align: middle;\n",
       "    }\n",
       "\n",
       "    .dataframe tbody tr th {\n",
       "        vertical-align: top;\n",
       "    }\n",
       "\n",
       "    .dataframe thead th {\n",
       "        text-align: right;\n",
       "    }\n",
       "</style>\n",
       "<table border=\"1\" class=\"dataframe\">\n",
       "  <thead>\n",
       "    <tr style=\"text-align: right;\">\n",
       "      <th></th>\n",
       "      <th>Recency</th>\n",
       "      <th>Frequency</th>\n",
       "      <th>Monetary</th>\n",
       "    </tr>\n",
       "    <tr>\n",
       "      <th>Customer ID</th>\n",
       "      <th></th>\n",
       "      <th></th>\n",
       "      <th></th>\n",
       "    </tr>\n",
       "  </thead>\n",
       "  <tbody>\n",
       "    <tr>\n",
       "      <th>12346.0</th>\n",
       "      <td>165</td>\n",
       "      <td>11</td>\n",
       "      <td>372.86</td>\n",
       "    </tr>\n",
       "    <tr>\n",
       "      <th>12347.0</th>\n",
       "      <td>3</td>\n",
       "      <td>2</td>\n",
       "      <td>1323.32</td>\n",
       "    </tr>\n",
       "    <tr>\n",
       "      <th>12348.0</th>\n",
       "      <td>74</td>\n",
       "      <td>1</td>\n",
       "      <td>222.16</td>\n",
       "    </tr>\n",
       "    <tr>\n",
       "      <th>12349.0</th>\n",
       "      <td>43</td>\n",
       "      <td>3</td>\n",
       "      <td>2671.14</td>\n",
       "    </tr>\n",
       "    <tr>\n",
       "      <th>12351.0</th>\n",
       "      <td>11</td>\n",
       "      <td>1</td>\n",
       "      <td>300.93</td>\n",
       "    </tr>\n",
       "    <tr>\n",
       "      <th>...</th>\n",
       "      <td>...</td>\n",
       "      <td>...</td>\n",
       "      <td>...</td>\n",
       "    </tr>\n",
       "    <tr>\n",
       "      <th>18283.0</th>\n",
       "      <td>18</td>\n",
       "      <td>6</td>\n",
       "      <td>641.77</td>\n",
       "    </tr>\n",
       "    <tr>\n",
       "      <th>18284.0</th>\n",
       "      <td>67</td>\n",
       "      <td>1</td>\n",
       "      <td>461.68</td>\n",
       "    </tr>\n",
       "    <tr>\n",
       "      <th>18285.0</th>\n",
       "      <td>296</td>\n",
       "      <td>1</td>\n",
       "      <td>427.00</td>\n",
       "    </tr>\n",
       "    <tr>\n",
       "      <th>18286.0</th>\n",
       "      <td>112</td>\n",
       "      <td>2</td>\n",
       "      <td>1296.43</td>\n",
       "    </tr>\n",
       "    <tr>\n",
       "      <th>18287.0</th>\n",
       "      <td>18</td>\n",
       "      <td>4</td>\n",
       "      <td>2345.71</td>\n",
       "    </tr>\n",
       "  </tbody>\n",
       "</table>\n",
       "<p>4314 rows × 3 columns</p>\n",
       "</div>"
      ],
      "text/plain": [
       "             Recency  Frequency  Monetary\n",
       "Customer ID                              \n",
       "12346.0          165         11    372.86\n",
       "12347.0            3          2   1323.32\n",
       "12348.0           74          1    222.16\n",
       "12349.0           43          3   2671.14\n",
       "12351.0           11          1    300.93\n",
       "...              ...        ...       ...\n",
       "18283.0           18          6    641.77\n",
       "18284.0           67          1    461.68\n",
       "18285.0          296          1    427.00\n",
       "18286.0          112          2   1296.43\n",
       "18287.0           18          4   2345.71\n",
       "\n",
       "[4314 rows x 3 columns]"
      ]
     },
     "execution_count": 21,
     "metadata": {},
     "output_type": "execute_result"
    }
   ],
   "source": [
    "rfm.columns=[\"Recency\",\"Frequency\",\"Monetary\"]\n",
    "rfm"
   ]
  },
  {
   "cell_type": "code",
   "execution_count": 22,
   "id": "d3ecc4a2",
   "metadata": {
    "execution": {
     "iopub.execute_input": "2023-08-14T14:49:41.806097Z",
     "iopub.status.busy": "2023-08-14T14:49:41.805436Z",
     "iopub.status.idle": "2023-08-14T14:49:41.826624Z",
     "shell.execute_reply": "2023-08-14T14:49:41.825786Z"
    },
    "papermill": {
     "duration": 0.038539,
     "end_time": "2023-08-14T14:49:41.828809",
     "exception": false,
     "start_time": "2023-08-14T14:49:41.790270",
     "status": "completed"
    },
    "tags": []
   },
   "outputs": [
    {
     "data": {
      "text/html": [
       "<div>\n",
       "<style scoped>\n",
       "    .dataframe tbody tr th:only-of-type {\n",
       "        vertical-align: middle;\n",
       "    }\n",
       "\n",
       "    .dataframe tbody tr th {\n",
       "        vertical-align: top;\n",
       "    }\n",
       "\n",
       "    .dataframe thead th {\n",
       "        text-align: right;\n",
       "    }\n",
       "</style>\n",
       "<table border=\"1\" class=\"dataframe\">\n",
       "  <thead>\n",
       "    <tr style=\"text-align: right;\">\n",
       "      <th></th>\n",
       "      <th>Recency</th>\n",
       "      <th>Frequency</th>\n",
       "      <th>Monetary</th>\n",
       "    </tr>\n",
       "  </thead>\n",
       "  <tbody>\n",
       "    <tr>\n",
       "      <th>count</th>\n",
       "      <td>4312.000000</td>\n",
       "      <td>4312.000000</td>\n",
       "      <td>4312.000000</td>\n",
       "    </tr>\n",
       "    <tr>\n",
       "      <th>mean</th>\n",
       "      <td>91.172542</td>\n",
       "      <td>4.455705</td>\n",
       "      <td>2048.238236</td>\n",
       "    </tr>\n",
       "    <tr>\n",
       "      <th>std</th>\n",
       "      <td>96.861457</td>\n",
       "      <td>8.170213</td>\n",
       "      <td>8914.481280</td>\n",
       "    </tr>\n",
       "    <tr>\n",
       "      <th>min</th>\n",
       "      <td>1.000000</td>\n",
       "      <td>1.000000</td>\n",
       "      <td>2.950000</td>\n",
       "    </tr>\n",
       "    <tr>\n",
       "      <th>25%</th>\n",
       "      <td>18.000000</td>\n",
       "      <td>1.000000</td>\n",
       "      <td>307.987500</td>\n",
       "    </tr>\n",
       "    <tr>\n",
       "      <th>50%</th>\n",
       "      <td>53.000000</td>\n",
       "      <td>2.000000</td>\n",
       "      <td>706.020000</td>\n",
       "    </tr>\n",
       "    <tr>\n",
       "      <th>75%</th>\n",
       "      <td>136.000000</td>\n",
       "      <td>5.000000</td>\n",
       "      <td>1723.142500</td>\n",
       "    </tr>\n",
       "    <tr>\n",
       "      <th>max</th>\n",
       "      <td>374.000000</td>\n",
       "      <td>205.000000</td>\n",
       "      <td>349164.350000</td>\n",
       "    </tr>\n",
       "  </tbody>\n",
       "</table>\n",
       "</div>"
      ],
      "text/plain": [
       "           Recency    Frequency       Monetary\n",
       "count  4312.000000  4312.000000    4312.000000\n",
       "mean     91.172542     4.455705    2048.238236\n",
       "std      96.861457     8.170213    8914.481280\n",
       "min       1.000000     1.000000       2.950000\n",
       "25%      18.000000     1.000000     307.987500\n",
       "50%      53.000000     2.000000     706.020000\n",
       "75%     136.000000     5.000000    1723.142500\n",
       "max     374.000000   205.000000  349164.350000"
      ]
     },
     "execution_count": 22,
     "metadata": {},
     "output_type": "execute_result"
    }
   ],
   "source": [
    "rfm = rfm[rfm[\"Monetary\"] > 0]\n",
    "rfm.describe()"
   ]
  },
  {
   "cell_type": "markdown",
   "id": "444f875b",
   "metadata": {
    "papermill": {
     "duration": 0.013291,
     "end_time": "2023-08-14T14:49:41.856050",
     "exception": false,
     "start_time": "2023-08-14T14:49:41.842759",
     "status": "completed"
    },
    "tags": []
   },
   "source": [
    "# Converting RFM Scores to Single Variable"
   ]
  },
  {
   "cell_type": "code",
   "execution_count": 23,
   "id": "dc1d4ec3",
   "metadata": {
    "execution": {
     "iopub.execute_input": "2023-08-14T14:49:41.885343Z",
     "iopub.status.busy": "2023-08-14T14:49:41.884754Z",
     "iopub.status.idle": "2023-08-14T14:49:41.915390Z",
     "shell.execute_reply": "2023-08-14T14:49:41.914625Z"
    },
    "papermill": {
     "duration": 0.047892,
     "end_time": "2023-08-14T14:49:41.917659",
     "exception": false,
     "start_time": "2023-08-14T14:49:41.869767",
     "status": "completed"
    },
    "tags": []
   },
   "outputs": [
    {
     "data": {
      "text/html": [
       "<div>\n",
       "<style scoped>\n",
       "    .dataframe tbody tr th:only-of-type {\n",
       "        vertical-align: middle;\n",
       "    }\n",
       "\n",
       "    .dataframe tbody tr th {\n",
       "        vertical-align: top;\n",
       "    }\n",
       "\n",
       "    .dataframe thead th {\n",
       "        text-align: right;\n",
       "    }\n",
       "</style>\n",
       "<table border=\"1\" class=\"dataframe\">\n",
       "  <thead>\n",
       "    <tr style=\"text-align: right;\">\n",
       "      <th></th>\n",
       "      <th>Recency</th>\n",
       "      <th>Frequency</th>\n",
       "      <th>Monetary</th>\n",
       "      <th>recency_score</th>\n",
       "      <th>frequency_score</th>\n",
       "      <th>monetary_score</th>\n",
       "    </tr>\n",
       "    <tr>\n",
       "      <th>Customer ID</th>\n",
       "      <th></th>\n",
       "      <th></th>\n",
       "      <th></th>\n",
       "      <th></th>\n",
       "      <th></th>\n",
       "      <th></th>\n",
       "    </tr>\n",
       "  </thead>\n",
       "  <tbody>\n",
       "    <tr>\n",
       "      <th>12346.0</th>\n",
       "      <td>165</td>\n",
       "      <td>11</td>\n",
       "      <td>372.86</td>\n",
       "      <td>2</td>\n",
       "      <td>5</td>\n",
       "      <td>2</td>\n",
       "    </tr>\n",
       "    <tr>\n",
       "      <th>12347.0</th>\n",
       "      <td>3</td>\n",
       "      <td>2</td>\n",
       "      <td>1323.32</td>\n",
       "      <td>5</td>\n",
       "      <td>2</td>\n",
       "      <td>4</td>\n",
       "    </tr>\n",
       "    <tr>\n",
       "      <th>12348.0</th>\n",
       "      <td>74</td>\n",
       "      <td>1</td>\n",
       "      <td>222.16</td>\n",
       "      <td>2</td>\n",
       "      <td>1</td>\n",
       "      <td>1</td>\n",
       "    </tr>\n",
       "    <tr>\n",
       "      <th>12349.0</th>\n",
       "      <td>43</td>\n",
       "      <td>3</td>\n",
       "      <td>2671.14</td>\n",
       "      <td>3</td>\n",
       "      <td>3</td>\n",
       "      <td>5</td>\n",
       "    </tr>\n",
       "    <tr>\n",
       "      <th>12351.0</th>\n",
       "      <td>11</td>\n",
       "      <td>1</td>\n",
       "      <td>300.93</td>\n",
       "      <td>5</td>\n",
       "      <td>1</td>\n",
       "      <td>2</td>\n",
       "    </tr>\n",
       "  </tbody>\n",
       "</table>\n",
       "</div>"
      ],
      "text/plain": [
       "             Recency  Frequency  Monetary recency_score frequency_score  \\\n",
       "Customer ID                                                               \n",
       "12346.0          165         11    372.86             2               5   \n",
       "12347.0            3          2   1323.32             5               2   \n",
       "12348.0           74          1    222.16             2               1   \n",
       "12349.0           43          3   2671.14             3               3   \n",
       "12351.0           11          1    300.93             5               1   \n",
       "\n",
       "            monetary_score  \n",
       "Customer ID                 \n",
       "12346.0                  2  \n",
       "12347.0                  4  \n",
       "12348.0                  1  \n",
       "12349.0                  5  \n",
       "12351.0                  2  "
      ]
     },
     "execution_count": 23,
     "metadata": {},
     "output_type": "execute_result"
    }
   ],
   "source": [
    "#Date from customer's last purchase.The nearest date gets 5 and the furthest date gets 1.\n",
    "rfm[\"recency_score\"] = pd.qcut(rfm['Recency'], 5, labels=[5, 4, 3, 2, 1])\n",
    "\n",
    "# Total number of purchases.The least frequency gets 1 and the maximum frequency gets 5.\n",
    "rfm[\"frequency_score\"] = pd.qcut(rfm[\"Frequency\"].rank(method=\"first\"), 5, labels=[1, 2, 3, 4, 5])\n",
    "\n",
    "#Total spend by the customer.The least money gets 1, the most money gets 5.\n",
    "rfm[\"monetary_score\"]= pd.qcut(rfm[\"Monetary\"],5,labels=[1,2,3,4,5])\n",
    "rfm.head()"
   ]
  },
  {
   "cell_type": "code",
   "execution_count": 24,
   "id": "671edd75",
   "metadata": {
    "execution": {
     "iopub.execute_input": "2023-08-14T14:49:41.948271Z",
     "iopub.status.busy": "2023-08-14T14:49:41.947490Z",
     "iopub.status.idle": "2023-08-14T14:49:41.956033Z",
     "shell.execute_reply": "2023-08-14T14:49:41.955231Z"
    },
    "papermill": {
     "duration": 0.026525,
     "end_time": "2023-08-14T14:49:41.958569",
     "exception": false,
     "start_time": "2023-08-14T14:49:41.932044",
     "status": "completed"
    },
    "tags": []
   },
   "outputs": [],
   "source": [
    "#RFM - The value of 2 different variables that were formed was recorded as a RFM_SCORE\n",
    "rfm[\"RFM_SCORE\"] = (rfm[\"recency_score\"].astype(str) + rfm[\"frequency_score\"].astype(str))"
   ]
  },
  {
   "cell_type": "markdown",
   "id": "b6e18183",
   "metadata": {
    "papermill": {
     "duration": 0.013627,
     "end_time": "2023-08-14T14:49:41.986528",
     "exception": false,
     "start_time": "2023-08-14T14:49:41.972901",
     "status": "completed"
    },
    "tags": []
   },
   "source": [
    "# Segmenting Customers Using RFM Score"
   ]
  },
  {
   "cell_type": "code",
   "execution_count": 25,
   "id": "acd036e2",
   "metadata": {
    "execution": {
     "iopub.execute_input": "2023-08-14T14:49:42.020214Z",
     "iopub.status.busy": "2023-08-14T14:49:42.019522Z",
     "iopub.status.idle": "2023-08-14T14:49:42.132582Z",
     "shell.execute_reply": "2023-08-14T14:49:42.131447Z"
    },
    "papermill": {
     "duration": 0.134545,
     "end_time": "2023-08-14T14:49:42.135105",
     "exception": false,
     "start_time": "2023-08-14T14:49:42.000560",
     "status": "completed"
    },
    "tags": []
   },
   "outputs": [
    {
     "data": {
      "text/html": [
       "<div>\n",
       "<style scoped>\n",
       "    .dataframe tbody tr th:only-of-type {\n",
       "        vertical-align: middle;\n",
       "    }\n",
       "\n",
       "    .dataframe tbody tr th {\n",
       "        vertical-align: top;\n",
       "    }\n",
       "\n",
       "    .dataframe thead th {\n",
       "        text-align: right;\n",
       "    }\n",
       "</style>\n",
       "<table border=\"1\" class=\"dataframe\">\n",
       "  <thead>\n",
       "    <tr style=\"text-align: right;\">\n",
       "      <th></th>\n",
       "      <th>Recency</th>\n",
       "      <th>Frequency</th>\n",
       "      <th>Monetary</th>\n",
       "      <th>recency_score</th>\n",
       "      <th>frequency_score</th>\n",
       "      <th>monetary_score</th>\n",
       "      <th>RFM_SCORE</th>\n",
       "      <th>segment</th>\n",
       "    </tr>\n",
       "    <tr>\n",
       "      <th>Customer ID</th>\n",
       "      <th></th>\n",
       "      <th></th>\n",
       "      <th></th>\n",
       "      <th></th>\n",
       "      <th></th>\n",
       "      <th></th>\n",
       "      <th></th>\n",
       "      <th></th>\n",
       "    </tr>\n",
       "  </thead>\n",
       "  <tbody>\n",
       "    <tr>\n",
       "      <th>12346.0</th>\n",
       "      <td>165</td>\n",
       "      <td>11</td>\n",
       "      <td>372.86</td>\n",
       "      <td>2</td>\n",
       "      <td>5</td>\n",
       "      <td>2</td>\n",
       "      <td>25</td>\n",
       "      <td>cant_loose</td>\n",
       "    </tr>\n",
       "    <tr>\n",
       "      <th>12347.0</th>\n",
       "      <td>3</td>\n",
       "      <td>2</td>\n",
       "      <td>1323.32</td>\n",
       "      <td>5</td>\n",
       "      <td>2</td>\n",
       "      <td>4</td>\n",
       "      <td>52</td>\n",
       "      <td>potential_loyalists</td>\n",
       "    </tr>\n",
       "    <tr>\n",
       "      <th>12348.0</th>\n",
       "      <td>74</td>\n",
       "      <td>1</td>\n",
       "      <td>222.16</td>\n",
       "      <td>2</td>\n",
       "      <td>1</td>\n",
       "      <td>1</td>\n",
       "      <td>21</td>\n",
       "      <td>hibernating</td>\n",
       "    </tr>\n",
       "    <tr>\n",
       "      <th>12349.0</th>\n",
       "      <td>43</td>\n",
       "      <td>3</td>\n",
       "      <td>2671.14</td>\n",
       "      <td>3</td>\n",
       "      <td>3</td>\n",
       "      <td>5</td>\n",
       "      <td>33</td>\n",
       "      <td>need_attention</td>\n",
       "    </tr>\n",
       "    <tr>\n",
       "      <th>12351.0</th>\n",
       "      <td>11</td>\n",
       "      <td>1</td>\n",
       "      <td>300.93</td>\n",
       "      <td>5</td>\n",
       "      <td>1</td>\n",
       "      <td>2</td>\n",
       "      <td>51</td>\n",
       "      <td>new_customers</td>\n",
       "    </tr>\n",
       "  </tbody>\n",
       "</table>\n",
       "</div>"
      ],
      "text/plain": [
       "             Recency  Frequency  Monetary recency_score frequency_score  \\\n",
       "Customer ID                                                               \n",
       "12346.0          165         11    372.86             2               5   \n",
       "12347.0            3          2   1323.32             5               2   \n",
       "12348.0           74          1    222.16             2               1   \n",
       "12349.0           43          3   2671.14             3               3   \n",
       "12351.0           11          1    300.93             5               1   \n",
       "\n",
       "            monetary_score RFM_SCORE              segment  \n",
       "Customer ID                                                \n",
       "12346.0                  2        25           cant_loose  \n",
       "12347.0                  4        52  potential_loyalists  \n",
       "12348.0                  1        21          hibernating  \n",
       "12349.0                  5        33       need_attention  \n",
       "12351.0                  2        51        new_customers  "
      ]
     },
     "execution_count": 25,
     "metadata": {},
     "output_type": "execute_result"
    }
   ],
   "source": [
    "seg_map = {\n",
    "    r'[1-2][1-2]': 'hibernating',\n",
    "    r'[1-2][3-4]': 'at_Risk',\n",
    "    r'[1-2]5': 'cant_loose',\n",
    "    r'3[1-2]': 'about_to_sleep',\n",
    "    r'33': 'need_attention',\n",
    "    r'[3-4][4-5]': 'loyal_customers',\n",
    "    r'41': 'promising',\n",
    "    r'51': 'new_customers',\n",
    "    r'[4-5][2-3]': 'potential_loyalists',\n",
    "    r'5[4-5]': 'champions'\n",
    "}\n",
    "rfm['segment'] = rfm['RFM_SCORE'].replace(seg_map, regex=True)\n",
    "rfm.head()"
   ]
  },
  {
   "cell_type": "markdown",
   "id": "858ffe51",
   "metadata": {
    "papermill": {
     "duration": 0.014726,
     "end_time": "2023-08-14T14:49:42.164569",
     "exception": false,
     "start_time": "2023-08-14T14:49:42.149843",
     "status": "completed"
    },
    "tags": []
   },
   "source": [
    "# Interpretation of Descriptive Statistics of Segments"
   ]
  },
  {
   "cell_type": "code",
   "execution_count": 26,
   "id": "894b791c",
   "metadata": {
    "execution": {
     "iopub.execute_input": "2023-08-14T14:49:42.197957Z",
     "iopub.status.busy": "2023-08-14T14:49:42.197235Z",
     "iopub.status.idle": "2023-08-14T14:49:42.241266Z",
     "shell.execute_reply": "2023-08-14T14:49:42.240068Z"
    },
    "papermill": {
     "duration": 0.062716,
     "end_time": "2023-08-14T14:49:42.243943",
     "exception": false,
     "start_time": "2023-08-14T14:49:42.181227",
     "status": "completed"
    },
    "tags": []
   },
   "outputs": [
    {
     "data": {
      "text/html": [
       "<div>\n",
       "<style scoped>\n",
       "    .dataframe tbody tr th:only-of-type {\n",
       "        vertical-align: middle;\n",
       "    }\n",
       "\n",
       "    .dataframe tbody tr th {\n",
       "        vertical-align: top;\n",
       "    }\n",
       "\n",
       "    .dataframe thead tr th {\n",
       "        text-align: left;\n",
       "    }\n",
       "\n",
       "    .dataframe thead tr:last-of-type th {\n",
       "        text-align: right;\n",
       "    }\n",
       "</style>\n",
       "<table border=\"1\" class=\"dataframe\">\n",
       "  <thead>\n",
       "    <tr>\n",
       "      <th></th>\n",
       "      <th colspan=\"3\" halign=\"left\">Recency</th>\n",
       "      <th colspan=\"3\" halign=\"left\">Frequency</th>\n",
       "      <th colspan=\"3\" halign=\"left\">Monetary</th>\n",
       "    </tr>\n",
       "    <tr>\n",
       "      <th></th>\n",
       "      <th>mean</th>\n",
       "      <th>count</th>\n",
       "      <th>max</th>\n",
       "      <th>mean</th>\n",
       "      <th>count</th>\n",
       "      <th>max</th>\n",
       "      <th>mean</th>\n",
       "      <th>count</th>\n",
       "      <th>max</th>\n",
       "    </tr>\n",
       "    <tr>\n",
       "      <th>segment</th>\n",
       "      <th></th>\n",
       "      <th></th>\n",
       "      <th></th>\n",
       "      <th></th>\n",
       "      <th></th>\n",
       "      <th></th>\n",
       "      <th></th>\n",
       "      <th></th>\n",
       "      <th></th>\n",
       "    </tr>\n",
       "  </thead>\n",
       "  <tbody>\n",
       "    <tr>\n",
       "      <th>about_to_sleep</th>\n",
       "      <td>54.0</td>\n",
       "      <td>343</td>\n",
       "      <td>71</td>\n",
       "      <td>1.0</td>\n",
       "      <td>343</td>\n",
       "      <td>2</td>\n",
       "      <td>441.0</td>\n",
       "      <td>343</td>\n",
       "      <td>3502.0</td>\n",
       "    </tr>\n",
       "    <tr>\n",
       "      <th>at_Risk</th>\n",
       "      <td>152.0</td>\n",
       "      <td>611</td>\n",
       "      <td>372</td>\n",
       "      <td>3.0</td>\n",
       "      <td>611</td>\n",
       "      <td>6</td>\n",
       "      <td>1189.0</td>\n",
       "      <td>611</td>\n",
       "      <td>34095.0</td>\n",
       "    </tr>\n",
       "    <tr>\n",
       "      <th>cant_loose</th>\n",
       "      <td>124.0</td>\n",
       "      <td>77</td>\n",
       "      <td>298</td>\n",
       "      <td>9.0</td>\n",
       "      <td>77</td>\n",
       "      <td>46</td>\n",
       "      <td>4099.0</td>\n",
       "      <td>77</td>\n",
       "      <td>26287.0</td>\n",
       "    </tr>\n",
       "    <tr>\n",
       "      <th>champions</th>\n",
       "      <td>7.0</td>\n",
       "      <td>663</td>\n",
       "      <td>15</td>\n",
       "      <td>13.0</td>\n",
       "      <td>663</td>\n",
       "      <td>205</td>\n",
       "      <td>6852.0</td>\n",
       "      <td>663</td>\n",
       "      <td>349164.0</td>\n",
       "    </tr>\n",
       "    <tr>\n",
       "      <th>hibernating</th>\n",
       "      <td>214.0</td>\n",
       "      <td>1015</td>\n",
       "      <td>374</td>\n",
       "      <td>1.0</td>\n",
       "      <td>1015</td>\n",
       "      <td>2</td>\n",
       "      <td>404.0</td>\n",
       "      <td>1015</td>\n",
       "      <td>11881.0</td>\n",
       "    </tr>\n",
       "    <tr>\n",
       "      <th>loyal_customers</th>\n",
       "      <td>36.0</td>\n",
       "      <td>742</td>\n",
       "      <td>71</td>\n",
       "      <td>7.0</td>\n",
       "      <td>742</td>\n",
       "      <td>42</td>\n",
       "      <td>2746.0</td>\n",
       "      <td>742</td>\n",
       "      <td>50291.0</td>\n",
       "    </tr>\n",
       "    <tr>\n",
       "      <th>need_attention</th>\n",
       "      <td>53.0</td>\n",
       "      <td>207</td>\n",
       "      <td>71</td>\n",
       "      <td>2.0</td>\n",
       "      <td>207</td>\n",
       "      <td>3</td>\n",
       "      <td>1060.0</td>\n",
       "      <td>207</td>\n",
       "      <td>13545.0</td>\n",
       "    </tr>\n",
       "    <tr>\n",
       "      <th>new_customers</th>\n",
       "      <td>9.0</td>\n",
       "      <td>50</td>\n",
       "      <td>15</td>\n",
       "      <td>1.0</td>\n",
       "      <td>50</td>\n",
       "      <td>1</td>\n",
       "      <td>386.0</td>\n",
       "      <td>50</td>\n",
       "      <td>2945.0</td>\n",
       "    </tr>\n",
       "    <tr>\n",
       "      <th>potential_loyalists</th>\n",
       "      <td>19.0</td>\n",
       "      <td>517</td>\n",
       "      <td>36</td>\n",
       "      <td>2.0</td>\n",
       "      <td>517</td>\n",
       "      <td>3</td>\n",
       "      <td>730.0</td>\n",
       "      <td>517</td>\n",
       "      <td>12080.0</td>\n",
       "    </tr>\n",
       "    <tr>\n",
       "      <th>promising</th>\n",
       "      <td>26.0</td>\n",
       "      <td>87</td>\n",
       "      <td>36</td>\n",
       "      <td>1.0</td>\n",
       "      <td>87</td>\n",
       "      <td>1</td>\n",
       "      <td>367.0</td>\n",
       "      <td>87</td>\n",
       "      <td>2390.0</td>\n",
       "    </tr>\n",
       "  </tbody>\n",
       "</table>\n",
       "</div>"
      ],
      "text/plain": [
       "                    Recency            Frequency            Monetary        \\\n",
       "                       mean count  max      mean count  max     mean count   \n",
       "segment                                                                      \n",
       "about_to_sleep         54.0   343   71       1.0   343    2    441.0   343   \n",
       "at_Risk               152.0   611  372       3.0   611    6   1189.0   611   \n",
       "cant_loose            124.0    77  298       9.0    77   46   4099.0    77   \n",
       "champions               7.0   663   15      13.0   663  205   6852.0   663   \n",
       "hibernating           214.0  1015  374       1.0  1015    2    404.0  1015   \n",
       "loyal_customers        36.0   742   71       7.0   742   42   2746.0   742   \n",
       "need_attention         53.0   207   71       2.0   207    3   1060.0   207   \n",
       "new_customers           9.0    50   15       1.0    50    1    386.0    50   \n",
       "potential_loyalists    19.0   517   36       2.0   517    3    730.0   517   \n",
       "promising              26.0    87   36       1.0    87    1    367.0    87   \n",
       "\n",
       "                               \n",
       "                          max  \n",
       "segment                        \n",
       "about_to_sleep         3502.0  \n",
       "at_Risk               34095.0  \n",
       "cant_loose            26287.0  \n",
       "champions            349164.0  \n",
       "hibernating           11881.0  \n",
       "loyal_customers       50291.0  \n",
       "need_attention        13545.0  \n",
       "new_customers          2945.0  \n",
       "potential_loyalists   12080.0  \n",
       "promising              2390.0  "
      ]
     },
     "execution_count": 26,
     "metadata": {},
     "output_type": "execute_result"
    }
   ],
   "source": [
    "rfm[[\"segment\", \"Recency\",\"Frequency\",\"Monetary\"]].groupby(\"segment\").agg([\"mean\",\"count\",\"max\"]).round()"
   ]
  }
 ],
 "metadata": {
  "kernelspec": {
   "display_name": "Python 3",
   "language": "python",
   "name": "python3"
  },
  "language_info": {
   "codemirror_mode": {
    "name": "ipython",
    "version": 3
   },
   "file_extension": ".py",
   "mimetype": "text/x-python",
   "name": "python",
   "nbconvert_exporter": "python",
   "pygments_lexer": "ipython3",
   "version": "3.10.12"
  },
  "papermill": {
   "default_parameters": {},
   "duration": 38.941156,
   "end_time": "2023-08-14T14:49:43.281587",
   "environment_variables": {},
   "exception": null,
   "input_path": "__notebook__.ipynb",
   "output_path": "__notebook__.ipynb",
   "parameters": {},
   "start_time": "2023-08-14T14:49:04.340431",
   "version": "2.4.0"
  }
 },
 "nbformat": 4,
 "nbformat_minor": 5
}
